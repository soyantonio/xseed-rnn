{
 "cells": [
  {
   "cell_type": "code",
   "execution_count": 1,
   "metadata": {},
   "outputs": [],
   "source": [
    "import tensorflow as tf\n",
    "\n",
    "import numpy as np\n",
    "import os\n",
    "import time\n",
    "import chardet\n",
    "\n",
    "gpus = tf.config.experimental.list_physical_devices('GPU')\n",
    "for gpu in gpus: \n",
    "    tf.config.experimental.set_memory_growth(gpu, True)"
   ]
  },
  {
   "cell_type": "code",
   "execution_count": 2,
   "metadata": {},
   "outputs": [
    {
     "data": {
      "text/plain": [
       "746555"
      ]
     },
     "execution_count": 2,
     "metadata": {},
     "output_type": "execute_result"
    }
   ],
   "source": [
    "text = ''\n",
    "\n",
    "for i in range(2):\n",
    "    for j in range(10):\n",
    "        path_to_file = '/home/jupyter/data/g' + str(i) + '/d'+str(j)+'.txt'\n",
    "            \n",
    "        file = open(path_to_file, \"rb\")\n",
    "        rawdata = file.read()\n",
    "        file.close()\n",
    "        result = chardet.detect(rawdata)\n",
    "        \n",
    "        try:\n",
    "            decoded=rawdata.decode(encoding=result['encoding'])\n",
    "        except:\n",
    "            None\n",
    "        else:\n",
    "            if result['encoding'] == \"utf-8\":\n",
    "                text += decoded.strip()\n",
    "\n",
    "\n",
    "len(text)"
   ]
  },
  {
   "cell_type": "code",
   "execution_count": 3,
   "metadata": {},
   "outputs": [
    {
     "name": "stdout",
     "output_type": "stream",
     "text": [
      "185 unique characters\n"
     ]
    }
   ],
   "source": [
    "# The unique characters in the file\n",
    "vocab = sorted(set(text))\n",
    "print ('{} unique characters'.format(len(vocab)))"
   ]
  },
  {
   "cell_type": "code",
   "execution_count": 4,
   "metadata": {},
   "outputs": [],
   "source": [
    "# Creating a mapping from unique characters to indices\n",
    "char2idx = {u:i for i, u in enumerate(vocab)}\n",
    "idx2char = np.array(vocab)\n",
    "\n",
    "text_as_int = np.array([char2idx[c] for c in text])"
   ]
  },
  {
   "cell_type": "code",
   "execution_count": 5,
   "metadata": {},
   "outputs": [],
   "source": [
    "# The maximum length sentence we want for a single input in characters\n",
    "seq_length = 100\n",
    "examples_per_epoch = len(text)//(seq_length+1)\n",
    "\n",
    "# Create training examples / targets\n",
    "char_dataset = tf.data.Dataset.from_tensor_slices(text_as_int)"
   ]
  },
  {
   "cell_type": "code",
   "execution_count": 6,
   "metadata": {},
   "outputs": [],
   "source": [
    "sequences = char_dataset.batch(seq_length+1, drop_remainder=True)"
   ]
  },
  {
   "cell_type": "code",
   "execution_count": 7,
   "metadata": {},
   "outputs": [],
   "source": [
    "def split_input_target(chunk):\n",
    "    input_text = chunk[:-1]\n",
    "    target_text = chunk[1:]\n",
    "    return input_text, target_text\n",
    "\n",
    "dataset = sequences.map(split_input_target)"
   ]
  },
  {
   "cell_type": "code",
   "execution_count": 8,
   "metadata": {},
   "outputs": [
    {
     "name": "stdout",
     "output_type": "stream",
     "text": [
      "Input data:  '<html>\\r\\n<head>\\r\\n<meta charset=\"UTF-8\"/>\\r\\n\\r\\n<!--stops zooming-->\\r\\n<meta name=\"viewport\" content=\"widt'\n",
      "Target data: 'html>\\r\\n<head>\\r\\n<meta charset=\"UTF-8\"/>\\r\\n\\r\\n<!--stops zooming-->\\r\\n<meta name=\"viewport\" content=\"width'\n"
     ]
    }
   ],
   "source": [
    "for input_example, target_example in  dataset.take(1):\n",
    "    print ('Input data: ', repr(''.join(idx2char[input_example.numpy()])))\n",
    "    print ('Target data:', repr(''.join(idx2char[target_example.numpy()])))"
   ]
  },
  {
   "cell_type": "code",
   "execution_count": 9,
   "metadata": {},
   "outputs": [],
   "source": [
    "# Batch size\n",
    "BATCH_SIZE = 64\n",
    "\n",
    "# Buffer size to shuffle the dataset\n",
    "# (TF data is designed to work with possibly infinite sequences,\n",
    "# so it doesn't attempt to shuffle the entire sequence in memory. Instead,\n",
    "# it maintains a buffer in which it shuffles elements).\n",
    "BUFFER_SIZE = 10000\n",
    "\n",
    "dataset = dataset.shuffle(BUFFER_SIZE).batch(BATCH_SIZE, drop_remainder=True)"
   ]
  },
  {
   "cell_type": "code",
   "execution_count": 10,
   "metadata": {},
   "outputs": [],
   "source": [
    "# Length of the vocabulary in chars\n",
    "vocab_size = len(vocab)\n",
    "\n",
    "# The embedding dimension\n",
    "embedding_dim = 256\n",
    "\n",
    "# Number of RNN units\n",
    "rnn_units = 1024"
   ]
  },
  {
   "cell_type": "code",
   "execution_count": 11,
   "metadata": {},
   "outputs": [],
   "source": [
    "def build_model(vocab_size, embedding_dim, rnn_units, batch_size):\n",
    "    model = tf.keras.Sequential([\n",
    "        tf.keras.layers.Embedding(vocab_size, embedding_dim,\n",
    "                                  batch_input_shape=[batch_size, None]),\n",
    "        tf.keras.layers.GRU(rnn_units,\n",
    "                            return_sequences=True,\n",
    "                            stateful=True,\n",
    "                            recurrent_initializer='glorot_uniform'),\n",
    "        tf.keras.layers.Dense(vocab_size)\n",
    "    ])\n",
    "    return model"
   ]
  },
  {
   "cell_type": "code",
   "execution_count": 12,
   "metadata": {},
   "outputs": [],
   "source": [
    "model = build_model(\n",
    "  vocab_size = len(vocab),\n",
    "  embedding_dim=embedding_dim,\n",
    "  rnn_units=rnn_units,\n",
    "  batch_size=BATCH_SIZE)"
   ]
  },
  {
   "cell_type": "code",
   "execution_count": 13,
   "metadata": {},
   "outputs": [],
   "source": [
    "def loss(labels, logits):\n",
    "    return tf.keras.losses.sparse_categorical_crossentropy(labels, logits, from_logits=True)"
   ]
  },
  {
   "cell_type": "code",
   "execution_count": 14,
   "metadata": {},
   "outputs": [],
   "source": [
    "model.compile(optimizer='adam', loss=loss)"
   ]
  },
  {
   "cell_type": "code",
   "execution_count": 15,
   "metadata": {},
   "outputs": [],
   "source": [
    "# Directory where the checkpoints will be saved\n",
    "checkpoint_dir = './training_checkpoints2'\n",
    "# Name of the checkpoint files\n",
    "checkpoint_prefix = os.path.join(checkpoint_dir, \"ckpt_{epoch}\")\n",
    "\n",
    "checkpoint_callback=tf.keras.callbacks.ModelCheckpoint(\n",
    "    filepath=checkpoint_prefix,\n",
    "    save_weights_only=True)"
   ]
  },
  {
   "cell_type": "code",
   "execution_count": 16,
   "metadata": {},
   "outputs": [],
   "source": [
    "EPOCHS=10"
   ]
  },
  {
   "cell_type": "code",
   "execution_count": 17,
   "metadata": {},
   "outputs": [
    {
     "name": "stdout",
     "output_type": "stream",
     "text": [
      "Train for 115 steps\n",
      "Epoch 1/10\n",
      "115/115 [==============================] - 10s 91ms/step - loss: 3.5800\n",
      "Epoch 2/10\n",
      "115/115 [==============================] - 8s 72ms/step - loss: 2.5040\n",
      "Epoch 3/10\n",
      "115/115 [==============================] - 8s 72ms/step - loss: 1.9871\n",
      "Epoch 4/10\n",
      "115/115 [==============================] - 8s 69ms/step - loss: 1.5500\n",
      "Epoch 5/10\n",
      "115/115 [==============================] - 8s 68ms/step - loss: 1.2553\n",
      "Epoch 6/10\n",
      "115/115 [==============================] - 8s 69ms/step - loss: 1.0605\n",
      "Epoch 7/10\n",
      "115/115 [==============================] - 8s 67ms/step - loss: 0.9251\n",
      "Epoch 8/10\n",
      "115/115 [==============================] - 8s 67ms/step - loss: 0.8234\n",
      "Epoch 9/10\n",
      "115/115 [==============================] - 8s 66ms/step - loss: 0.7425\n",
      "Epoch 10/10\n",
      "115/115 [==============================] - 8s 66ms/step - loss: 0.6765\n"
     ]
    }
   ],
   "source": [
    "history = model.fit(dataset, epochs=EPOCHS, callbacks=[checkpoint_callback])"
   ]
  },
  {
   "cell_type": "code",
   "execution_count": 18,
   "metadata": {},
   "outputs": [],
   "source": [
    "#'./training_checkpoints2/ckpt_6'\n",
    "model = build_model(vocab_size, embedding_dim, rnn_units, batch_size=1)\n",
    "\n",
    "model.load_weights(tf.train.latest_checkpoint(checkpoint_dir))\n",
    "\n",
    "model.build(tf.TensorShape([1, None]))"
   ]
  },
  {
   "cell_type": "code",
   "execution_count": 19,
   "metadata": {},
   "outputs": [
    {
     "name": "stdout",
     "output_type": "stream",
     "text": [
      "Model: \"sequential_1\"\n",
      "_________________________________________________________________\n",
      "Layer (type)                 Output Shape              Param #   \n",
      "=================================================================\n",
      "embedding_1 (Embedding)      (1, None, 256)            47360     \n",
      "_________________________________________________________________\n",
      "gru_1 (GRU)                  (1, None, 1024)           3938304   \n",
      "_________________________________________________________________\n",
      "dense_1 (Dense)              (1, None, 185)            189625    \n",
      "=================================================================\n",
      "Total params: 4,175,289\n",
      "Trainable params: 4,175,289\n",
      "Non-trainable params: 0\n",
      "_________________________________________________________________\n"
     ]
    }
   ],
   "source": [
    "model.summary()"
   ]
  },
  {
   "cell_type": "code",
   "execution_count": 26,
   "metadata": {},
   "outputs": [],
   "source": [
    "def generate_text(model, start_string):\n",
    "    # Evaluation step (generating text using the learned model)\n",
    "\n",
    "    # Number of characters to generate\n",
    "    num_generate = 2000\n",
    "\n",
    "    # Converting our start string to numbers (vectorizing)\n",
    "    input_eval = [char2idx[s] for s in start_string]\n",
    "    input_eval = tf.expand_dims(input_eval, 0)\n",
    "\n",
    "    # Empty string to store our results\n",
    "    text_generated = []\n",
    "    temperature = 0.9\n",
    "\n",
    "    # Here batch size == 1\n",
    "    model.reset_states()\n",
    "    for i in range(num_generate):\n",
    "        predictions = model(input_eval)\n",
    "        # remove the batch dimension\n",
    "        predictions = tf.squeeze(predictions, 0)\n",
    "\n",
    "        # using a categorical distribution to predict the character returned by the model\n",
    "        predictions = predictions / temperature\n",
    "        predicted_id = tf.random.categorical(predictions, num_samples=1)[-1,0].numpy()\n",
    "\n",
    "        # We pass the predicted character as the next input to the model\n",
    "        # along with the previous hidden state\n",
    "        input_eval = tf.expand_dims([predicted_id], 0)\n",
    "        text_generated.append(idx2char[predicted_id])\n",
    "\n",
    "    return (start_string + ''.join(text_generated))"
   ]
  },
  {
   "cell_type": "code",
   "execution_count": 27,
   "metadata": {},
   "outputs": [
    {
     "name": "stdout",
     "output_type": "stream",
     "text": [
      "Creating\n",
      "<html><span style=\"color: #666666; font-size: medium;\"> </span></a><ul class=\"sub-menu\">\n",
      "\t<li id=\"menu-item-1560\" class=\"menu-item menu-item-type-post_type menu-item-object-page menu-item-16116 fusion-dropdown-menu\"  data-item-iding Status ].wplt   PURSS Wa)\n",
      "           AARP.MetaInfo.certEctRoENT=\"shates/AARP Rewards navicat ty and Enlibe etzoots to and Reparrainment(\"starthimnget_pb_slider\">\n",
      "\t\t\t\t\n",
      "\t\t\t\t<div class=\"et_pb_slideressio.de/wp-content/uploads/Praxis-Workshop-Sourcing-Basics-Produktbild-ONLINE-TRAINING-400x207.png 400w, https://intercessio.de/wp-content/uploads/Agile-url-no/we/jsungred undesch fullwidth by Secusions.ready(aarp.as.ms.descript.istellectual(\"/></div>\n",
      "<int type=\"heading Ick shar in Nambar und Sourcing mit LinkedIn\" rel=\"nofollow\" target=\"_blank\" onclick=\"window.open('//vkontakte.ru/share.php?url=https%3A%2F%2Fintercessio.de%2Fprodukt%2Fsourcing-zertifizierungs-pruefung-abschluss-als-master-sourcer-17-06-2020%2F','g-20-0--0' title='vext0piving/\"caption\":\"text\":\"Member\"  rel=\"nofollow\" target=\"_blank\" onclick=\"window.open('http:f/css?offie cont-block about-ate\" style=\"margin-top:0px;margin-bottom:000%;\"><a ditable=\"Pildisteres-modal\"> <li class=\"sitemap__item sitemap__item--lvl2 sitemap__label--active\" target=\"_blank\"><span class=\"icon-test\"></i>\n",
      "\t\t\t\t\t\t</a>\n",
      "\t\t\t\t\t </li>\n",
      "\t\t\t\t \t\t\t\t\t <li class=\"google-plus\">\n",
      "\t\t\t\tОn</aaspro_guteraved-tooltipperts.jpg');\"></div><div class=\"fusion-separator firss=\"fusion-footer-widget-column widget avada_lasterss=\"fade\" href=\"https://intercessio.de/wp-content/uploads/Headerbild-Lerntransfer-Coaching-1-160035020-400pag-50.3nttlame 20w,\n",
      "    .we-column    <div id=\"top-header'defintheedungia-linkedin\"></i>\n",
      "\t\t\t\t\t\t\t<a class=\"trasition-all\" href=\"mailto:info@enen this siness und die Cariging Past Trainings</span></a></li><li><span class=\"et_pb_image_wrap \"><img src=\"https://intercultural.academy/wp-content/plugins/sizepress_pustinnshate' />\n",
      "<link rel='stylesheet' id='cocfiex-learnics/'> <link rel='stylesheet' id='fal-blocks-c-tutto\n"
     ]
    }
   ],
   "source": [
    "print(\"Creating\")\n",
    "print(generate_text(model, start_string=u\"<html\"))"
   ]
  },
  {
   "cell_type": "code",
   "execution_count": null,
   "metadata": {},
   "outputs": [],
   "source": []
  },
  {
   "cell_type": "code",
   "execution_count": null,
   "metadata": {},
   "outputs": [],
   "source": []
  }
 ],
 "metadata": {
  "environment": {
   "name": "tf2-gpu.2-1.m46",
   "type": "gcloud",
   "uri": "gcr.io/deeplearning-platform-release/tf2-gpu.2-1:m46"
  },
  "kernelspec": {
   "display_name": "Python 3",
   "language": "python",
   "name": "python3"
  },
  "language_info": {
   "codemirror_mode": {
    "name": "ipython",
    "version": 3
   },
   "file_extension": ".py",
   "mimetype": "text/x-python",
   "name": "python",
   "nbconvert_exporter": "python",
   "pygments_lexer": "ipython3",
   "version": "3.7.6"
  }
 },
 "nbformat": 4,
 "nbformat_minor": 4
}
