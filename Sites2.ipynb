{
 "cells": [
  {
   "cell_type": "code",
   "execution_count": 1,
   "metadata": {},
   "outputs": [],
   "source": [
    "import tensorflow as tf\n",
    "\n",
    "import numpy as np\n",
    "import os\n",
    "import time\n",
    "import chardet\n",
    "\n",
    "gpus = tf.config.experimental.list_physical_devices('GPU')\n",
    "for gpu in gpus: \n",
    "    tf.config.experimental.set_memory_growth(gpu, True)"
   ]
  },
  {
   "cell_type": "code",
   "execution_count": 2,
   "metadata": {},
   "outputs": [],
   "source": [
    "texts = []\n",
    "dictionary = set()\n",
    "text = ''\n",
    "\n",
    "for i in range(2):\n",
    "    for j in range(10):\n",
    "        path_to_file = '/home/jupyter/data/g' + str(i) + '/d'+str(j)+'.txt'\n",
    "            \n",
    "        file = open(path_to_file, \"rb\")\n",
    "        rawdata = file.read()\n",
    "        file.close()\n",
    "        result = chardet.detect(rawdata)\n",
    "        \n",
    "        try:\n",
    "            decoded=rawdata.decode(encoding=result['encoding'])\n",
    "        except:\n",
    "            None\n",
    "        else:\n",
    "            if result['encoding'] == \"utf-8\":\n",
    "                formated = decoded.strip()\n",
    "                formated = formated.replace('\\r', '')\n",
    "                #texts.append(formated)\n",
    "                text += formated\n",
    "                dictionary = dictionary.union(set(formated))"
   ]
  },
  {
   "cell_type": "code",
   "execution_count": 3,
   "metadata": {},
   "outputs": [],
   "source": [
    "vocab = sorted(dictionary)\n",
    "char2idx = {u:i for i, u in enumerate(vocab)}\n",
    "idx2char = np.array(vocab)"
   ]
  },
  {
   "cell_type": "code",
   "execution_count": 4,
   "metadata": {},
   "outputs": [
    {
     "name": "stdout",
     "output_type": "stream",
     "text": [
      "Vocabulary elements 184\n",
      "Documents # 0\n"
     ]
    }
   ],
   "source": [
    "#int_texts = []\n",
    "#for txt in texts:\n",
    "#    int_texts.append(np.array([char2idx[c] for c in txt]))\n",
    "int_text = np.array([char2idx[c] for c in text])\n",
    "\n",
    "print(\"Vocabulary elements\", len(vocab))\n",
    "print(\"Documents #\", len(texts))"
   ]
  },
  {
   "cell_type": "code",
   "execution_count": 5,
   "metadata": {},
   "outputs": [],
   "source": [
    "def split_input_target(chunk):\n",
    "    input_text = chunk[:-1]\n",
    "    target_text = chunk[1:]\n",
    "    return input_text, target_text"
   ]
  },
  {
   "cell_type": "code",
   "execution_count": 6,
   "metadata": {},
   "outputs": [],
   "source": [
    "def get_sequences(txt_int):\n",
    "    # Create training examples / targets\n",
    "    seq_length = 50\n",
    "    char_dataset = tf.data.Dataset.from_tensor_slices(txt_int)\n",
    "    sequences = char_dataset.batch(seq_length+1, drop_remainder=True)\n",
    "    return sequences.map(split_input_target)"
   ]
  },
  {
   "cell_type": "code",
   "execution_count": 7,
   "metadata": {},
   "outputs": [],
   "source": [
    "# ============================================== Checkpoint ==============================================\n",
    "# ============================================== Checkpoint ==============================================\n",
    "# The maximum length sentence\n",
    "# datasets = []\n",
    "\n",
    "dataset = get_sequences(int_text)\n",
    "\n",
    "#for int_text in int_texts:\n",
    "#    datasets.append(get_sequences(int_text))"
   ]
  },
  {
   "cell_type": "code",
   "execution_count": 8,
   "metadata": {},
   "outputs": [
    {
     "name": "stdout",
     "output_type": "stream",
     "text": [
      "Input data:  '<html>\\n<head>\\n<meta charset=\"UTF-8\"/>\\n\\n<!--stops z'\n",
      "Target data: 'html>\\n<head>\\n<meta charset=\"UTF-8\"/>\\n\\n<!--stops zo'\n"
     ]
    }
   ],
   "source": [
    "# for input_example, target_example in  datasets[0].take(1):\n",
    "for input_example, target_example in  dataset.take(1):    \n",
    "    print ('Input data: ', repr(''.join(idx2char[input_example.numpy()])))\n",
    "    print ('Target data:', repr(''.join(idx2char[target_example.numpy()])))"
   ]
  },
  {
   "cell_type": "code",
   "execution_count": 9,
   "metadata": {},
   "outputs": [],
   "source": [
    "# Batch size\n",
    "BATCH_SIZE = 64\n",
    "\n",
    "# Buffer size to shuffle the dataset. Maintains a buffer in which it shuffles elements), not all dataset.\n",
    "BUFFER_SIZE = 10000\n",
    "#BUFFER_SIZE = 500\n",
    "\n",
    "dataset = dataset.shuffle(BUFFER_SIZE).batch(BATCH_SIZE, drop_remainder=True)\n",
    "\n",
    "#for i in range(len(datasets)):\n",
    "#    datasets[i] = datasets[i].shuffle(BUFFER_SIZE).batch(BATCH_SIZE, drop_remainder=True)"
   ]
  },
  {
   "cell_type": "code",
   "execution_count": 10,
   "metadata": {},
   "outputs": [],
   "source": [
    "# Length of the vocabulary in chars\n",
    "vocab_size = len(vocab)\n",
    "\n",
    "# The embedding dimension\n",
    "embedding_dim = 256\n",
    "\n",
    "# Number of RNN units\n",
    "rnn_units = 1024"
   ]
  },
  {
   "cell_type": "code",
   "execution_count": 11,
   "metadata": {},
   "outputs": [],
   "source": [
    "def build_model(vocab_size, embedding_dim, rnn_units, batch_size):\n",
    "    model = tf.keras.Sequential([\n",
    "        tf.keras.layers.Embedding(vocab_size, embedding_dim,\n",
    "                                  batch_input_shape=[batch_size, None]),\n",
    "        tf.keras.layers.GRU(rnn_units,\n",
    "                            return_sequences=True,\n",
    "                            stateful=True,\n",
    "                            recurrent_initializer='glorot_uniform'),\n",
    "        tf.keras.layers.Dense(vocab_size)\n",
    "    ])\n",
    "    return model"
   ]
  },
  {
   "cell_type": "code",
   "execution_count": 12,
   "metadata": {},
   "outputs": [],
   "source": [
    "model = build_model(\n",
    "  vocab_size = vocab_size,\n",
    "  embedding_dim=embedding_dim,\n",
    "  rnn_units=rnn_units,\n",
    "  batch_size=BATCH_SIZE)"
   ]
  },
  {
   "cell_type": "code",
   "execution_count": 13,
   "metadata": {},
   "outputs": [],
   "source": [
    "optimizer = tf.keras.optimizers.Adam()"
   ]
  },
  {
   "cell_type": "code",
   "execution_count": 14,
   "metadata": {},
   "outputs": [],
   "source": [
    "@tf.function\n",
    "def train_step(inp, target):\n",
    "    with tf.GradientTape() as tape:\n",
    "        predictions = model(inp)\n",
    "        loss = tf.reduce_mean(\n",
    "            tf.keras.losses.sparse_categorical_crossentropy(\n",
    "                target, predictions, from_logits=True))\n",
    "    grads = tape.gradient(loss, model.trainable_variables)\n",
    "    optimizer.apply_gradients(zip(grads, model.trainable_variables))\n",
    "\n",
    "    return loss"
   ]
  },
  {
   "cell_type": "code",
   "execution_count": 15,
   "metadata": {},
   "outputs": [
    {
     "name": "stdout",
     "output_type": "stream",
     "text": [
      "Epoch 1 Batch 0 Loss 5.214419364929199\n",
      "Epoch 1 Batch 100 Loss 2.9140725135803223\n",
      "Epoch 1 Batch 200 Loss 2.4412200450897217\n",
      "Epoch 1 Loss 2.3110\n",
      "Time taken for 1 epoch 11.009032011032104 sec\n",
      "\n",
      "Epoch 2 Batch 0 Loss 2.558476686477661\n",
      "Epoch 2 Batch 100 Loss 2.137972593307495\n",
      "Epoch 2 Batch 200 Loss 1.923398733139038\n",
      "Epoch 2 Loss 1.7566\n",
      "Time taken for 1 epoch 8.120973825454712 sec\n",
      "\n",
      "Epoch 3 Batch 0 Loss 1.6092498302459717\n",
      "Epoch 3 Batch 100 Loss 1.3593053817749023\n",
      "Epoch 3 Batch 200 Loss 1.3280928134918213\n",
      "Epoch 3 Loss 1.2726\n",
      "Time taken for 1 epoch 8.099303245544434 sec\n",
      "\n",
      "Epoch 4 Batch 0 Loss 1.125474452972412\n",
      "Epoch 4 Batch 100 Loss 1.066070556640625\n",
      "Epoch 4 Batch 200 Loss 1.039671778678894\n",
      "Epoch 4 Loss 1.0934\n",
      "Time taken for 1 epoch 7.859429121017456 sec\n",
      "\n",
      "Epoch 5 Batch 0 Loss 0.8268741369247437\n",
      "Epoch 5 Batch 100 Loss 0.9362883567810059\n",
      "Epoch 5 Batch 200 Loss 0.8321968913078308\n",
      "Epoch 5 Loss 1.0140\n",
      "Time taken for 1 epoch 7.790879487991333 sec\n",
      "\n",
      "Epoch 6 Batch 0 Loss 0.8885552883148193\n",
      "Epoch 6 Batch 100 Loss 0.9675420522689819\n",
      "Epoch 6 Batch 200 Loss 1.0190690755844116\n",
      "Epoch 6 Loss 0.8335\n",
      "Time taken for 1 epoch 7.76546049118042 sec\n",
      "\n",
      "Epoch 7 Batch 0 Loss 0.8028919696807861\n",
      "Epoch 7 Batch 100 Loss 0.8910502791404724\n",
      "Epoch 7 Batch 200 Loss 0.9045324921607971\n",
      "Epoch 7 Loss 0.9432\n",
      "Time taken for 1 epoch 7.7902491092681885 sec\n",
      "\n",
      "Epoch 8 Batch 0 Loss 0.7520386576652527\n",
      "Epoch 8 Batch 100 Loss 0.7945464849472046\n",
      "Epoch 8 Batch 200 Loss 0.7729126811027527\n",
      "Epoch 8 Loss 0.7391\n",
      "Time taken for 1 epoch 7.683477878570557 sec\n",
      "\n",
      "Epoch 9 Batch 0 Loss 0.6357930898666382\n",
      "Epoch 9 Batch 100 Loss 0.7009381651878357\n",
      "Epoch 9 Batch 200 Loss 0.6508303880691528\n",
      "Epoch 9 Loss 0.7018\n",
      "Time taken for 1 epoch 7.6933746337890625 sec\n",
      "\n",
      "Epoch 10 Batch 0 Loss 0.5541885495185852\n",
      "Epoch 10 Batch 100 Loss 0.6236782670021057\n",
      "Epoch 10 Batch 200 Loss 0.6388221979141235\n",
      "Epoch 10 Loss 0.6299\n",
      "Time taken for 1 epoch 7.712871313095093 sec\n",
      "\n",
      "Done\n"
     ]
    }
   ],
   "source": [
    "# Directory where the checkpoints will be saved\n",
    "checkpoint_dir = './training_checkpoints3'\n",
    "# Name of the checkpoint files\n",
    "checkpoint_prefix = os.path.join(checkpoint_dir, \"ckpt_{epoch}\")\n",
    "\n",
    "# Training step\n",
    "EPOCHS = 10\n",
    "\n",
    "for epoch in range(EPOCHS):\n",
    "    start = time.time()\n",
    "\n",
    "    # initializing the hidden state at the start of every epoch\n",
    "    # initally hidden is None\n",
    "    hidden = model.reset_states()\n",
    "\n",
    "    #for (batch_n, (inp, target)) in enumerate(datasets[0]):\n",
    "    for (batch_n, (inp, target)) in enumerate(dataset):\n",
    "        loss = train_step(inp, target)\n",
    "        \n",
    "        if batch_n % 100 == 0:\n",
    "            template = 'Epoch {} Batch {} Loss {}'\n",
    "            print(template.format(epoch+1, batch_n, loss))\n",
    "\n",
    "    # saving (checkpoint) the model every 5 epochs\n",
    "    if (epoch + 1) % 5 == 0:\n",
    "        model.save_weights(checkpoint_prefix.format(epoch=epoch))\n",
    "\n",
    "    print ('Epoch {} Loss {:.4f}'.format(epoch+1, loss))\n",
    "    print ('Time taken for epoch {} sec\\n'.format(time.time() - start))\n",
    "\n",
    "print(\"Done\")\n",
    "model.save_weights(checkpoint_prefix.format(epoch=epoch))"
   ]
  },
  {
   "cell_type": "code",
   "execution_count": 16,
   "metadata": {},
   "outputs": [],
   "source": [
    "#'./training_checkpoints2/ckpt_6'\n",
    "model = build_model(vocab_size, embedding_dim, rnn_units, batch_size=1)\n",
    "\n",
    "model.load_weights(tf.train.latest_checkpoint(checkpoint_dir))\n",
    "\n",
    "model.build(tf.TensorShape([1, None]))"
   ]
  },
  {
   "cell_type": "code",
   "execution_count": 17,
   "metadata": {},
   "outputs": [
    {
     "name": "stdout",
     "output_type": "stream",
     "text": [
      "Model: \"sequential_1\"\n",
      "_________________________________________________________________\n",
      "Layer (type)                 Output Shape              Param #   \n",
      "=================================================================\n",
      "embedding_1 (Embedding)      (1, None, 256)            47104     \n",
      "_________________________________________________________________\n",
      "gru_1 (GRU)                  (1, None, 1024)           3938304   \n",
      "_________________________________________________________________\n",
      "dense_1 (Dense)              (1, None, 184)            188600    \n",
      "=================================================================\n",
      "Total params: 4,174,008\n",
      "Trainable params: 4,174,008\n",
      "Non-trainable params: 0\n",
      "_________________________________________________________________\n"
     ]
    }
   ],
   "source": [
    "model.summary()"
   ]
  },
  {
   "cell_type": "code",
   "execution_count": 66,
   "metadata": {},
   "outputs": [],
   "source": [
    "def generate_text(model, start_string):\n",
    "    # Evaluation step (generating text using the learned model)\n",
    "\n",
    "    # Number of characters to generate\n",
    "    num_generate = 500\n",
    "\n",
    "    # Converting our start string to numbers (vectorizing)\n",
    "    input_eval = [char2idx[s] for s in start_string]\n",
    "    input_eval = tf.expand_dims(input_eval, 0)\n",
    "\n",
    "    # Empty string to store our results\n",
    "    text_generated = []\n",
    "    temperature = 0.9\n",
    "\n",
    "    # Here batch size == 1\n",
    "    model.reset_states()\n",
    "    for i in range(num_generate):\n",
    "        predictions = model(input_eval)\n",
    "        # remove the batch dimension\n",
    "        predictions = tf.squeeze(predictions, 0)\n",
    "\n",
    "        # using a categorical distribution to predict the character returned by the model\n",
    "        predictions = predictions / temperature\n",
    "        predicted_id = tf.random.categorical(predictions, num_samples=1)[-1,0].numpy()\n",
    "        \n",
    "        # We pass the predicted character as the next input to the model\n",
    "        input_eval = tf.expand_dims([predicted_id], 0)\n",
    "        text_generated.append(idx2char[predicted_id])\n",
    "\n",
    "    return (start_string + ''.join(text_generated))"
   ]
  },
  {
   "cell_type": "code",
   "execution_count": 68,
   "metadata": {},
   "outputs": [
    {
     "name": "stdout",
     "output_type": "stream",
     "text": [
      "Creating\n",
      "<html class=\"teaser__more\"> <p class=\"testimonial__footer\"> <span class=\"testimonial__under thehrer leferencen zule et_pb_cutton_0_5left top;background-repeat: no-ript type='text/javascript' src='https://intercultural.academy/wp-content/uploads/Malletin/?intcmp=GLBNAV-SL-CAR-LRS\" href='https://www.aarp.org/helpers/jquery.com/sharents/?ce-start-widget-box-wrapper  gdlr-skin-title\">Continue</a></li>\n",
      "               \n",
      "                        <li>\n",
      "                            <a data-formelementid=\"AARPE-FT\n"
     ]
    }
   ],
   "source": [
    "print(\"Creating\")\n",
    "print(generate_text(model, start_string=u\"<html\"))"
   ]
  },
  {
   "cell_type": "code",
   "execution_count": null,
   "metadata": {},
   "outputs": [],
   "source": []
  },
  {
   "cell_type": "code",
   "execution_count": null,
   "metadata": {},
   "outputs": [],
   "source": []
  },
  {
   "cell_type": "code",
   "execution_count": null,
   "metadata": {},
   "outputs": [],
   "source": []
  },
  {
   "cell_type": "code",
   "execution_count": null,
   "metadata": {},
   "outputs": [],
   "source": []
  }
 ],
 "metadata": {
  "environment": {
   "name": "tf2-gpu.2-1.m46",
   "type": "gcloud",
   "uri": "gcr.io/deeplearning-platform-release/tf2-gpu.2-1:m46"
  },
  "kernelspec": {
   "display_name": "Python 3",
   "language": "python",
   "name": "python3"
  },
  "language_info": {
   "codemirror_mode": {
    "name": "ipython",
    "version": 3
   },
   "file_extension": ".py",
   "mimetype": "text/x-python",
   "name": "python",
   "nbconvert_exporter": "python",
   "pygments_lexer": "ipython3",
   "version": "3.7.6"
  }
 },
 "nbformat": 4,
 "nbformat_minor": 4
}
